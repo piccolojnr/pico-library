{
 "cells": [
  {
   "cell_type": "code",
   "execution_count": 16,
   "metadata": {},
   "outputs": [],
   "source": [
    "import PIL.Image\n",
    "from dicebear import DAvatar, DStyle, DOptions, DColor, DFormat, bulk_create\n",
    "import os\n",
    "\n",
    "# Enable usage statistics\n",
    "os.environ['ENABLE_PYTHON_DICEBEAR_USAGE_STATS'] = 'true'\n",
    "\n",
    "# Creating options\n",
    "options = DOptions(\n",
    "    backgroundColor=DColor(\"transparent\"),\n",
    "    rotate=0,\n",
    "    radius=50,\n",
    "    padding=0,\n",
    "    margin=0,\n",
    "    format=DFormat.svg,\n",
    "),\n"
   ]
  },
  {
   "cell_type": "code",
   "execution_count": 17,
   "metadata": {},
   "outputs": [
    {
     "name": "stdout",
     "output_type": "stream",
     "text": [
      "https://api.dicebear.com/7.x/avataaars/svg?seed=John%20Apple&\n"
     ]
    }
   ],
   "source": [
    "# Making a DAvatar object\n",
    "av = DAvatar(\n",
    "    style=DStyle.avataaars,\n",
    "    seed=\"John Apple\",\n",
    "    options=options\n",
    ")\n",
    "print(av.url_svg) # Prints the svg url\n"
   ]
  }
 ],
 "metadata": {
  "kernelspec": {
   "display_name": "venv",
   "language": "python",
   "name": "python3"
  },
  "language_info": {
   "codemirror_mode": {
    "name": "ipython",
    "version": 3
   },
   "file_extension": ".py",
   "mimetype": "text/x-python",
   "name": "python",
   "nbconvert_exporter": "python",
   "pygments_lexer": "ipython3",
   "version": "3.10.12"
  }
 },
 "nbformat": 4,
 "nbformat_minor": 2
}
