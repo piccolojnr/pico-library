{
 "cells": [
  {
   "cell_type": "code",
   "execution_count": 12,
   "metadata": {},
   "outputs": [],
   "source": [
    "import PIL.Image\n",
    "from dicebear import DAvatar, DStyle, DOptions, DColor, DFormat\n",
    "import os\n",
    "\n",
    "# Enable usage statistics\n",
    "os.environ['ENABLE_PYTHON_DICEBEAR_USAGE_STATS'] = 'true'\n",
    "\n",
    "# Creating options\n",
    "options = DOptions(\n",
    "    backgroundColor=DColor(\"transparent\"),\n",
    "    rotate=0,\n",
    "    radius=50,\n",
    "    padding=0,\n",
    "    margin=0,\n",
    "    format=DFormat.svg,\n",
    "),\n"
   ]
  },
  {
   "cell_type": "code",
   "execution_count": 18,
   "metadata": {},
   "outputs": [
    {
     "data": {
      "text/plain": [
       "'bc467b2f-05b7-422f-9df9-d2b6109493a0'"
      ]
     },
     "execution_count": 18,
     "metadata": {},
     "output_type": "execute_result"
    }
   ],
   "source": [
    "from uuid import uuid4\n",
    "str(uuid4())"
   ]
  },
  {
   "cell_type": "code",
   "execution_count": 53,
   "metadata": {},
   "outputs": [
    {
     "name": "stdout",
     "output_type": "stream",
     "text": [
      "https://api.dicebear.com/7.x/avataaars/svg?seed=0c35acf4-ae4b-4624-b950-0998dcaebe84&skinColor=614335&hairColor=#00ff00&eyeColor=%230000ff&top=bigHair\n"
     ]
    }
   ],
   "source": [
    "# Making a DAvatar object\n",
    "av = DAvatar(\n",
    "    seed=str(uuid4()),\n",
    "    style=DStyle.avataaars,\n",
    "    options=options,\n",
    "    custom={\n",
    "        \"skinColor\": \"614335\",\n",
    "        \"hairColor\": \"#00ff00\",\n",
    "        \"eyeColor\": \"#0000ff\",\n",
    "        \"top\": \"bigHair\",\t\n",
    "        \n",
    "    }\n",
    ")\n",
    "print(av) # Prints the svg url\n"
   ]
  },
  {
   "cell_type": "code",
   "execution_count": null,
   "metadata": {},
   "outputs": [],
   "source": []
  },
  {
   "cell_type": "code",
   "execution_count": 1,
   "metadata": {},
   "outputs": [],
   "source": [
    "import enum\n",
    "\n",
    "\n",
    "class UserGender(enum.Enum):\n",
    "    \"\"\" \"\"\"\n",
    "\n",
    "    MALE = \"male\"\n",
    "    FEMALE = \"female\"\n",
    "    OTHER = \"other\"\n"
   ]
  },
  {
   "cell_type": "code",
   "execution_count": 9,
   "metadata": {},
   "outputs": [
    {
     "data": {
      "text/plain": [
       "<UserGender.MALE: 'male'>"
      ]
     },
     "execution_count": 9,
     "metadata": {},
     "output_type": "execute_result"
    }
   ],
   "source": [
    "UserGender._value2member_map_['male']"
   ]
  }
 ],
 "metadata": {
  "kernelspec": {
   "display_name": "venv",
   "language": "python",
   "name": "python3"
  },
  "language_info": {
   "codemirror_mode": {
    "name": "ipython",
    "version": 3
   },
   "file_extension": ".py",
   "mimetype": "text/x-python",
   "name": "python",
   "nbconvert_exporter": "python",
   "pygments_lexer": "ipython3",
   "version": "3.10.12"
  }
 },
 "nbformat": 4,
 "nbformat_minor": 2
}
